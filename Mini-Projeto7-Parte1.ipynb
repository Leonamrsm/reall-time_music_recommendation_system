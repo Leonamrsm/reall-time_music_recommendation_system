{
 "cells": [
  {
   "cell_type": "markdown",
   "metadata": {},
   "source": [
    "# <font color='blue'>Data Science Academy</font>\n",
    "# <font color='blue'>Big Data Real-Time Analytics com Python e Spark</font>\n",
    "\n",
    "## <font color='blue'>Mini-Projeto 7</font>\n",
    "\n",
    "### <font color='blue'>Sistema de Recomendação em Tempo Real com Machine Learning, PySpark, Spark Streaming e Kafka</font>"
   ]
  },
  {
   "cell_type": "markdown",
   "metadata": {},
   "source": [
    "![title](imagens/MP7.png)"
   ]
  },
  {
   "cell_type": "code",
   "execution_count": null,
   "metadata": {},
   "outputs": [],
   "source": [
    "# Versão da Linguagem Python\n",
    "from platform import python_version\n",
    "print('Versão da Linguagem Python Usada Neste Jupyter Notebook:', python_version())"
   ]
  },
  {
   "cell_type": "code",
   "execution_count": null,
   "metadata": {},
   "outputs": [],
   "source": [
    "# Para atualizar um pacote, execute o comando abaixo no terminal ou prompt de comando:\n",
    "# pip install -U nome_pacote\n",
    "\n",
    "# Para instalar a versão exata de um pacote, execute o comando abaixo no terminal ou prompt de comando:\n",
    "#!pip install nome_pacote==versão_desejada\n",
    "\n",
    "# Depois de instalar ou atualizar o pacote, reinicie o jupyter notebook.\n",
    "\n",
    "# Instala o pacote watermark. \n",
    "# Esse pacote é usado para gravar as versões de outros pacotes usados neste jupyter notebook.\n",
    "!pip install -q -U watermark"
   ]
  },
  {
   "cell_type": "code",
   "execution_count": null,
   "metadata": {},
   "outputs": [],
   "source": [
    "# https://kafka-python.readthedocs.io/en/master/\n",
    "!pip install -q kafka-python"
   ]
  },
  {
   "cell_type": "code",
   "execution_count": null,
   "metadata": {},
   "outputs": [],
   "source": [
    "# Imports\n",
    "import time\n",
    "import random\n",
    "import kafka\n",
    "import numpy as np\n",
    "import pandas as pd\n",
    "from json import dumps\n",
    "from kafka import KafkaProducer\n",
    "import warnings\n",
    "warnings.filterwarnings('ignore')"
   ]
  },
  {
   "cell_type": "code",
   "execution_count": null,
   "metadata": {},
   "outputs": [],
   "source": [
    "# Versões dos pacotes usados neste jupyter notebook\n",
    "%reload_ext watermark\n",
    "%watermark -a \"Data Science Academy\" --iversions"
   ]
  },
  {
   "cell_type": "code",
   "execution_count": null,
   "metadata": {},
   "outputs": [],
   "source": [
    "# Endereço do servidor Kafka\n",
    "SERVER = 'localhost:9092'"
   ]
  },
  {
   "cell_type": "code",
   "execution_count": null,
   "metadata": {},
   "outputs": [],
   "source": [
    "# Nome do tópico\n",
    "TOPIC = \"dsaminiprojeto7\""
   ]
  },
  {
   "cell_type": "code",
   "execution_count": null,
   "metadata": {},
   "outputs": [],
   "source": [
    "# Carregamos o conjunto de dados de músicas\n",
    "df_dsaminiprojeto7 = pd.read_csv(\"dados/dataset.csv\")"
   ]
  },
  {
   "cell_type": "code",
   "execution_count": null,
   "metadata": {},
   "outputs": [],
   "source": [
    "# Ajustamos o formato de 3 colunas importantes: order_id, Artist Name(s) e Artist IDs\n",
    "df_dsaminiprojeto7['order_id'] = np.arange(len(df_dsaminiprojeto7))\n",
    "df_dsaminiprojeto7['Artist Name(s)'] = df_dsaminiprojeto7['Artist Name(s)'].str.replace('[^a-zA-Z]', '')\n",
    "df_dsaminiprojeto7['Artist IDs'] = df_dsaminiprojeto7['Artist IDs'].str.replace('[^a-zA-Z]', '')"
   ]
  },
  {
   "cell_type": "code",
   "execution_count": null,
   "metadata": {},
   "outputs": [],
   "source": [
    "df_dsaminiprojeto7.shape"
   ]
  },
  {
   "cell_type": "code",
   "execution_count": null,
   "metadata": {},
   "outputs": [],
   "source": [
    "df_dsaminiprojeto7.head(10)"
   ]
  },
  {
   "cell_type": "code",
   "execution_count": null,
   "metadata": {},
   "outputs": [],
   "source": [
    "# Convertemos o dataframe em um dicionário de músicas\n",
    "dict_musicas = df_dsaminiprojeto7.to_dict(orient = \"records\")"
   ]
  },
  {
   "cell_type": "code",
   "execution_count": null,
   "metadata": {},
   "outputs": [],
   "source": [
    "dict_musicas[1:3]"
   ]
  },
  {
   "cell_type": "code",
   "execution_count": null,
   "metadata": {
    "pycharm": {
     "is_executing": true
    },
    "scrolled": true
   },
   "outputs": [],
   "source": [
    "# Kafka Producer\n",
    "if __name__ == \"__main__\":\n",
    "\n",
    "    # Cria o producer\n",
    "    producer = KafkaProducer(bootstrap_servers = SERVER, \n",
    "                             value_serializer = lambda x: x.encode('utf-8'))\n",
    "    \n",
    "    # Variáveis de controle\n",
    "    send = []    \n",
    "    send = None\n",
    "\n",
    "    # Loop pelo dicionário de músicas\n",
    "    for musica in dict_musicas:\n",
    "        \n",
    "        # Cria a lista com dados que serão enviados para o Kafka\n",
    "        sending = []\n",
    "        \n",
    "        # Append de cada coluna\n",
    "        sending.append(musica[\"order_id\"])\n",
    "        sending.append(musica[\"Spotify ID\"])\n",
    "        sending.append(musica[\"Track Name\"])\n",
    "        sending.append(musica[\"Popularity\"])\n",
    "        sending.append(musica[\"Duration (ms)\"])\n",
    "        sending.append(musica[\"Artist Name(s)\"])\n",
    "        sending.append(musica[\"Artist IDs\"])\n",
    "        sending.append(musica[\"Release Date\"])\n",
    "        sending.append(musica[\"Danceability\"])\n",
    "        sending.append(musica[\"Energy\"])\n",
    "        sending.append(musica[\"Key\"])\n",
    "        sending.append(musica[\"Loudness\"])\n",
    "        sending.append(musica[\"Mode\"])\n",
    "        sending.append(musica[\"Speechiness\"])\n",
    "        sending.append(musica[\"Acousticness\"])\n",
    "        sending.append(musica[\"Instrumentalness\"])\n",
    "        sending.append(musica[\"Liveness\"])\n",
    "        sending.append(musica[\"Valence\"])\n",
    "        sending.append(musica[\"Tempo\"])\n",
    "        sending.append(musica[\"Time Signature\"])\n",
    "        \n",
    "        # Junta tudo\n",
    "        musica = ','.join(str(v) for v in sending)\n",
    "\n",
    "        # Envia os dados para o tópico\n",
    "        print(\"Próxima Música:\" )\n",
    "        print(musica)\n",
    "        producer.send(TOPIC, musica)\n",
    "        time.sleep(1)\n",
    "\n",
    "    print(\"Concluído\")"
   ]
  },
  {
   "cell_type": "markdown",
   "metadata": {},
   "source": [
    "# Fim"
   ]
  }
 ],
 "metadata": {
  "kernelspec": {
   "display_name": "Python 3 (ipykernel)",
   "language": "python",
   "name": "python3"
  },
  "language_info": {
   "codemirror_mode": {
    "name": "ipython",
    "version": 3
   },
   "file_extension": ".py",
   "mimetype": "text/x-python",
   "name": "python",
   "nbconvert_exporter": "python",
   "pygments_lexer": "ipython3",
   "version": "3.9.13"
  }
 },
 "nbformat": 4,
 "nbformat_minor": 4
}
